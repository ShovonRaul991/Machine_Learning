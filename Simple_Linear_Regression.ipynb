{
  "nbformat": 4,
  "nbformat_minor": 0,
  "metadata": {
    "colab": {
      "name": "Simple_Linear_Regression.ipynb",
      "provenance": [],
      "collapsed_sections": [],
      "authorship_tag": "ABX9TyNe2hEpXZkGwBqCqXWYokEw",
      "include_colab_link": true
    },
    "kernelspec": {
      "name": "python3",
      "display_name": "Python 3"
    },
    "language_info": {
      "name": "python"
    }
  },
  "cells": [
    {
      "cell_type": "markdown",
      "metadata": {
        "id": "view-in-github",
        "colab_type": "text"
      },
      "source": [
        "<a href=\"https://colab.research.google.com/github/ShovonRaul991/Machine_Learning/blob/main/Simple_Linear_Regression.ipynb\" target=\"_parent\"><img src=\"https://colab.research.google.com/assets/colab-badge.svg\" alt=\"Open In Colab\"/></a>"
      ]
    },
    {
      "cell_type": "markdown",
      "metadata": {
        "id": "-_Ceea60bFYh"
      },
      "source": [
        "# **Understand the data**\n",
        "\n",
        "# *Goal*\n",
        "\n",
        "Perform the basic EDA on the data. Understand the data, check on its distribution, visualize the data and check for missing values.\n",
        "\n",
        "# *Concepts Covered*\n",
        "As a first step, understand and visualise the data to find its distribution and other statistics. We will use Pandas dataframe methods to understand the data and the seaborn library for plotting the visualizations graphs."
      ]
    },
    {
      "cell_type": "markdown",
      "metadata": {
        "id": "zdGSO4thbqYU"
      },
      "source": [
        "Assume that the dataset is already loaded into the dataframe df and the variable df is available for you to use.\n",
        "Type in the missing code in the editor to achieve the below objectives.\n",
        "\n",
        "\n",
        "**Type in the missing code in the editor to achieve the below objectives.\n",
        "Understand the data.**\n",
        "\n",
        "Use the shape method of Pandas dataframe to know the no. of rows and columns in the dataset.\n",
        "\n",
        "**Look into the data.**\n",
        "\n",
        "Use the head() method of Pandas dataframe to get the feel of the dataset by looking at the first 5 rows.\n",
        "\n",
        "**Statistical Data Analysis.**\n",
        "\n",
        "Use the describe() method of Pandas dataframe to know statistical details like min, max,mean, standard deviation and percentiles for the numerical columns.\n",
        "\n",
        "**Scatter Plot.**\n",
        "\n",
        "Lets plot scatter plot for Annual_Income against Average_Monthly_Revenue. Use the jointplot method from seaborn library to plot the scatter plot and visually analyze the data and see if the data is linear or not. x is the independent variable Annual_Income, y is the dependent variable Average_Monthly_Revenue and df is the data.There is a positive linear relationship between the variables 'Annual_Income' and 'Average_Monthly_Revenue'.\n",
        "\n",
        "**Correlation Analysis**\n",
        "\n",
        "It gives hints to find if variable is significant or not. Use the corr() method of Pandas dataframe and then create a heatmap to visualise it using the heatmap() method.Higher correlation value between the two variables signfies that the two variables are significant to each other.\n",
        "\n",
        "**Check for missing values**\n",
        "\n",
        "Use the methods isnull to get missing values and sum to get the count of missing values on all the columns of the dataframe df. Print the same."
      ]
    },
    {
      "cell_type": "code",
      "metadata": {
        "colab": {
          "base_uri": "https://localhost:8080/"
        },
        "id": "nwiuuQeAf8lE",
        "outputId": "68840ba9-ed93-4eb7-fae1-593b95af62c9"
      },
      "source": [
        "from google.colab import drive\n",
        "drive.mount('/content/drive')"
      ],
      "execution_count": 18,
      "outputs": [
        {
          "output_type": "stream",
          "name": "stdout",
          "text": [
            "Drive already mounted at /content/drive; to attempt to forcibly remount, call drive.mount(\"/content/drive\", force_remount=True).\n"
          ]
        }
      ]
    },
    {
      "cell_type": "code",
      "metadata": {
        "colab": {
          "base_uri": "https://localhost:8080/",
          "height": 857
        },
        "id": "HnHDKm-cbjB5",
        "outputId": "cb72313b-2b35-4afd-b023-07bad1396c1a"
      },
      "source": [
        "import pandas as pd\n",
        "import seaborn as sns\n",
        "\n",
        "path = \"/content/drive/MyDrive/Colab Notebooks/Demo.csv\"\n",
        "df = pd.read_csv(path, header=0)\n",
        "df.describe()\n",
        "\n",
        "# 1. Summarize data\n",
        "print(f'Shape: {df.shape}')\n",
        "\n",
        "\n",
        "# 2. Look into the data.\n",
        "print('Peeking into the data')\n",
        "print(df.head())\n",
        "\n",
        "\n",
        "# 3. Statistical Data Analysis\n",
        "print('Statistical Data Analysis')\n",
        "print(df.describe())\n",
        "\n",
        "\n",
        "# 4. Scatter Plot\n",
        "print(sns.jointplot(x='Annual_Income', y='Average_Monthly_Revenue', data=df))\n",
        "\n",
        "\n",
        "#5. Correlation Analysis\n",
        "corrMatrix = df.corr()\n",
        "print(sns.heatmap(corrMatrix, annot=True))\n",
        "\n",
        "\n",
        "#6. Check for missing values\n",
        "missing_values = df.isnull().sum()\n",
        "print('missing values are: ')\n",
        "print(missing_values)"
      ],
      "execution_count": 19,
      "outputs": [
        {
          "output_type": "stream",
          "name": "stdout",
          "text": [
            "Shape: (25, 2)\n",
            "Peeking into the data\n",
            "   Annual_Income  Average_Monthly_Revenue\n",
            "0          98000                127.51673\n",
            "1          71500                 91.06086\n",
            "2          49100                  7.84356\n",
            "3          84000                 96.20609\n",
            "4          58000                 32.92030\n",
            "Statistical Data Analysis\n",
            "       Annual_Income  Average_Monthly_Revenue\n",
            "count        25.0000                25.000000\n",
            "mean      86392.0000               112.077798\n",
            "std       33203.1113                77.190817\n",
            "min       47700.0000                 7.843560\n",
            "25%       56700.0000                36.875460\n",
            "50%       75400.0000                96.206090\n",
            "75%      106500.0000               164.170350\n",
            "max      155500.0000               281.842770\n",
            "<seaborn.axisgrid.JointGrid object at 0x7f67aef84b10>\n",
            "AxesSubplot(0.85178,0.0988571;0.0985764x0.725947)\n",
            "missing values are: \n",
            "Annual_Income              0\n",
            "Average_Monthly_Revenue    0\n",
            "dtype: int64\n"
          ]
        },
        {
          "output_type": "display_data",
          "data": {
            "image/png": "[encoded data removed]",
            "text/plain": [
              "<Figure size 432x432 with 4 Axes>"
            ]
          },
          "metadata": {
            "needs_background": "light"
          }
        }
      ]
    },
    {
      "cell_type": "markdown",
      "metadata": {
        "id": "rFU89QFzhS8C"
      },
      "source": [
        "# **Test Train Split**\n",
        "# Goal\n",
        "Split the data into Training and Testing Set.\n",
        "\n",
        "# Concepts Covered\n",
        "Divide the data into independent variable features (X) and dependent variable (y). Further divide both into Training and Testing datasets."
      ]
    },
    {
      "cell_type": "markdown",
      "metadata": {
        "id": "0cFSHhN-he5Y"
      },
      "source": [
        "# **Type in the missing code in the editor to achieve the below objectives.**\n",
        "\n",
        "### 1.Seperate Data into Dependent and Independent Variables\n",
        "Seperate the independent variable Annual_Income as a 2D array X. Seperate the dependent variable Average_Monthly_Revenue as y.\n",
        "\n",
        "### 2.Split into Training and Testing Set\n",
        "\n",
        "Import the function train_test_split from sklearn library.\n",
        "To use this function, divide the dataset into 4 - X_train and y_train which will be used for training the model and X_test and y_test which will be used for testing the model.\n",
        "To the function train_test_split, the first parameter passed is the response variable X, next is the traget variable y, test_size = ratio of test-train split.To split in the ratio of 70:30, select test_size = 0.3, random_state = 0 to get the same training and testing set every time when the code is run.\n",
        "Print the shape of all 4 - X_train, X_test, y_train, y_test to check the split."
      ]
    },
    {
      "cell_type": "code",
      "metadata": {
        "colab": {
          "base_uri": "https://localhost:8080/"
        },
        "id": "W2_h868ciBja",
        "outputId": "5eb8dd55-9173-4700-adf9-e563aaffb304"
      },
      "source": [
        "#1. Seperate Data into Dependent and Independent Variables\n",
        "X = df[['Annual_Income']]\n",
        "y = df['Average_Monthly_Revenue']\n",
        "\n",
        "\n",
        "#2. Split into Training and Testing Set\n",
        "from sklearn.model_selection import train_test_split\n",
        "X_train,X_test,y_train,y_test = train_test_split(X,y,test_size = 0.3, random_state = 0)\n",
        "\n",
        "\n",
        "print(f'Shape of Training Independent variable: {X_train.shape}')\n",
        "print(f'Shape of Training Dependent variable: {X_test.shape}')\n",
        "print(f'Shape of Testing Independent variable: {y_train.shape}')\n",
        "print(f'Shape of Testing Dependent variable: {y_test.shape}')\n"
      ],
      "execution_count": 20,
      "outputs": [
        {
          "output_type": "stream",
          "name": "stdout",
          "text": [
            "Shape of Training Independent variable: (17, 1)\n",
            "Shape of Training Dependent variable: (8, 1)\n",
            "Shape of Testing Independent variable: (17,)\n",
            "Shape of Testing Dependent variable: (8,)\n"
          ]
        }
      ]
    },
    {
      "cell_type": "markdown",
      "metadata": {
        "id": "QbJtV9udiID_"
      },
      "source": [
        "\n",
        "# Goal:\n",
        "**Building Linear Regression Model Using statsmodels.api**\n",
        "\n",
        "Create the Simple Linear Regression Model Using statsmodels.api Library and fit it using the data.\n",
        "\n",
        "**Concepts Covered**\n",
        "\n",
        "Linear Regression is a linear approach for predicting a dependent variable(y) on the basis of an independent variable(X) assuming that X and y are linearly related to each other."
      ]
    },
    {
      "cell_type": "markdown",
      "metadata": {
        "id": "ka7aoci5iWd3"
      },
      "source": [
        "# Type in the missing code in the editor to achieve the below objectives\n",
        "**Linear Regression Model Using statsmodels.api Library**\n",
        "\n",
        "*Train the Algorithm*\n",
        "\n",
        "Import statsmodels.api Library.\n",
        "1. Invoke the method to ensure that the model fits an intercept\n",
        "\n",
        "By default, this library does not include the constant term of the linear equation, y = b0 + b1X.To add this constant to the training data, use add_constant method to the independent variable(X_train).We add a constant to get the y-intercept which is not passing through the origin.\n",
        "2. Build the OLS model on the training data\n",
        "\n",
        "To create the model object,model_LR use the function OLS on the target variable(y_train) and response variable with constant(X_train_LR) and then fit the model using the method fit.\n",
        "3. Print the summary statistics of the model on the training data\n",
        "\n",
        "The summary of the model_LR can be seen by using the created model with summary function - summary.\n",
        "\n",
        "As the regression equation is y = b0 + b1X, the b0,constant is the const coef value and b1,intercept is the Annual_Income value in the summary. Other attributes like Std error, p-values, R-squared values etc can also be checked from this summary.\n",
        "\n",
        "*Interpretation of the model Summary*\n",
        "\n",
        "\n",
        "### 1.R-Squared = 0.87\n",
        "- reflects the fit of the model. R-squared values range from 0 to 1, where a higher value generally indicates a better fit, assuming certain conditions are met.\n",
        "\n",
        "### 2.const coefficient = -81.8739\n",
        "  - is the y-intercept. It means that if both the Annual_Income and Average_Monthly_Revenue coefficients are zero, then the expected output (i.e., the y) would be equal to the const coefficient.\n",
        "\n",
        "### 3.Annual_Income = 0.0022 \n",
        "- represents the change in the output y due to a change of one unit in the Annual_Income (everything else held constant)\n",
        "\n",
        "### 4.std err \n",
        "- reflects the level of accuracy of the coefficients. The lower it is, the higher is the level of accuracy\n",
        "\n",
        "### 5.P >|t| = 0.00 \n",
        "- is the p-value. A p-value of less than 0.05 is considered to be statistically significant\n",
        "\n",
        "### 6.Confidence Interval \n",
        "- represents the range in which our coefficients are likely to fall (with a likelihood of 95%)"
      ]
    },
    {
      "cell_type": "code",
      "metadata": {
        "colab": {
          "base_uri": "https://localhost:8080/"
        },
        "id": "tisz7wZ9jscb",
        "outputId": "caa3367f-16ed-450f-c605-a3395a1c83f9"
      },
      "source": [
        "#Train the Algorithm\n",
        "import statsmodels.api as sm\n",
        "\n",
        "\n",
        "# 1. Use add_constant() method to the X_train or else model will try to fit a\n",
        "# line that passes through the origin. We add a constant to get the y-intercept\n",
        "# which is not passing through the origin.\n",
        "X_train_LR = sm.add_constant(X_train)\n",
        "\n",
        "\n",
        "# 2. Build the OLS model on the training data\n",
        "model_LR = sm.OLS(y_train,X_train_LR).fit()\n",
        "\n",
        "\n",
        "# 3. Print the summary statistics of the model on the training data\n",
        "print(model_LR.summary())"
      ],
      "execution_count": 21,
      "outputs": [
        {
          "output_type": "stream",
          "name": "stdout",
          "text": [
            "                               OLS Regression Results                              \n",
            "===================================================================================\n",
            "Dep. Variable:     Average_Monthly_Revenue   R-squared:                       0.921\n",
            "Model:                                 OLS   Adj. R-squared:                  0.916\n",
            "Method:                      Least Squares   F-statistic:                     175.9\n",
            "Date:                     Wed, 17 Nov 2021   Prob (F-statistic):           1.09e-09\n",
            "Time:                             06:31:51   Log-Likelihood:                -72.407\n",
            "No. Observations:                       17   AIC:                             148.8\n",
            "Df Residuals:                           15   BIC:                             150.5\n",
            "Df Model:                                1                                         \n",
            "Covariance Type:                 nonrobust                                         \n",
            "=================================================================================\n",
            "                    coef    std err          t      P>|t|      [0.025      0.975]\n",
            "---------------------------------------------------------------------------------\n",
            "const           -77.1357     14.217     -5.426      0.000    -107.438     -46.833\n",
            "Annual_Income     0.0022      0.000     13.264      0.000       0.002       0.003\n",
            "==============================================================================\n",
            "Omnibus:                        7.021   Durbin-Watson:                   1.417\n",
            "Prob(Omnibus):                  0.030   Jarque-Bera (JB):                4.078\n",
            "Skew:                           1.064   Prob(JB):                        0.130\n",
            "Kurtosis:                       4.109   Cond. No.                     2.71e+05\n",
            "==============================================================================\n",
            "\n",
            "Warnings:\n",
            "[1] Standard Errors assume that the covariance matrix of the errors is correctly specified.\n",
            "[2] The condition number is large, 2.71e+05. This might indicate that there are\n",
            "strong multicollinearity or other numerical problems.\n"
          ]
        },
        {
          "output_type": "stream",
          "name": "stderr",
          "text": [
            "/usr/local/lib/python3.7/dist-packages/scipy/stats/stats.py:1535: UserWarning: kurtosistest only valid for n>=20 ... continuing anyway, n=17\n",
            "  \"anyway, n=%i\" % int(n))\n"
          ]
        }
      ]
    },
    {
      "cell_type": "markdown",
      "metadata": {
        "id": "fDzg30rij7ND"
      },
      "source": [
        "## Building Linear Regression Model Using sklearn Library\n",
        "**Goal**\n",
        "\n",
        "Create the Simple Linear Regression Model Using sklearn Library and fit it using the data.\n",
        "\n",
        "**Concepts Covered**\n",
        "\n",
        "scikit-learn is designed for machine-learning, on the other hand statsmodels is made for rigorous statistics. sklearn offers a lot of simple, easy to learn algorithms that require the data to be organized in the right way whereas StatsModels doesn’t have this variety of options, it offers statistics and econometric tools that are top of the line and validated against other statistics software like Stata and R.Before selecting one over the other, it is best to consider the purpose of the model. A model designed for prediction is best fit using scikit-learn, while statsmodels is best employed for explanatory models.\n",
        "\n",
        "We will use *matplotlib* library for plotting the Regression Line."
      ]
    },
    {
      "cell_type": "markdown",
      "metadata": {
        "id": "KzOaMc5PkNk2"
      },
      "source": [
        "##Type in the missing code in the editor to achieve the below objectives.\n",
        "*Linear Regression Model Using sklearn Library*\n",
        "\n",
        "**Train the algorithm**\n",
        "\n",
        "Use class LinearRegression from sklearn.linear_model Library.\n",
        "1. Create The model object\n",
        "\n",
        "Create The model object, model_lm by using the method LinearRegression().\n",
        "2. Fit the model\n",
        "\n",
        "Fit the model using the created object with method fit on the training variables X_train and y_train.\n",
        "3. Print the coefficients\n",
        "\n",
        "To view the coefficient values of the model, print the model attributes model_lm.intercept_, model_lm.coef_.\n",
        "The co-efficients are the same for both statsmodel and sklearn LR models.\n",
        "4. Calculating R-Squared for training set\n",
        "\n",
        "To calculate R-squared value import the class r2_score from library sklearn.metrics.\n",
        "5. Predict on training set\n",
        "\n",
        "The model_lm can now be used to predict the values of dependant variable(y) on training data(X_train) using the method predict. These values can be stored and printed in a variable y_pred_train.\n",
        "6. R square value for Training Set\n",
        "\n",
        "To calculate the R-squared value of training dataset, Use the method r2_score on actual y_train and predicted y_pred_train values and store it in a variable Rscore_train and print the same.\n",
        "7. Best Fit Line\n",
        "\n",
        "Use the scatter() method of matplotlib to plot the scatterplot between Annual_Income and Average_Monthly_Revenue.\n",
        "Use the plot() method of matplotlibto plot the regression line between actual independent variable X_train and predicted dependent values y_pred_train of the training data.\n",
        "Again use matplotlib functions to give the title and the x and y labels on the chart."
      ]
    },
    {
      "cell_type": "code",
      "metadata": {
        "colab": {
          "base_uri": "https://localhost:8080/",
          "height": 365
        },
        "id": "Z0F7i5wokjSo",
        "outputId": "05146328-f9dd-4493-bae4-92141c9118dc"
      },
      "source": [
        "# Train the Algorithm\n",
        "from sklearn.linear_model import LinearRegression\n",
        "\n",
        "\n",
        "#1. Create The model object\n",
        "model_lm = LinearRegression()\n",
        "\n",
        "\n",
        "#2. Fit the model\n",
        "model_lm.fit(X_train, y_train)\n",
        "\n",
        "\n",
        "#3. Print the coefficients\n",
        "print(f'b0=Constant coefficient: {model_lm.intercept_}')\n",
        "print(f'b1=Annual_Income coefficient: {model_lm.coef_}')\n",
        "\n",
        "\n",
        "#4. Calculating R-Squared for training  and testing set\n",
        "from sklearn.metrics import r2_score\n",
        "\n",
        "\n",
        "#5. Predict on training set\n",
        "y_pred_train = model_lm.predict(X_train)\n",
        "\n",
        "\n",
        "#6. R square value for Training Set\n",
        "Rscore_train = r2_score(y_train,y_pred_train)\n",
        "print(f'R-squared value for Training Set:{Rscore_train}')\n",
        "\n",
        "\n",
        "#7. Best Fit Line\n",
        "import matplotlib.pyplot as plt\n",
        "plt.scatter(X_train,y_train,color = 'hotpink')\n",
        "plt.plot(X_train,y_pred_train,color = 'green')\n",
        "plt.title('Linear Regression')\n",
        "plt.xlabel('Annual_Income')\n",
        "plt.ylabel('Average_Monthly_Revenue')\n",
        "\n"
      ],
      "execution_count": 22,
      "outputs": [
        {
          "output_type": "stream",
          "name": "stdout",
          "text": [
            "b0=Constant coefficient: -77.13568491672281\n",
            "b1=Annual_Income coefficient: [0.00223626]\n",
            "R-squared value for Training Set:0.9214432624058572\n"
          ]
        },
        {
          "output_type": "execute_result",
          "data": {
            "text/plain": [
              "Text(0, 0.5, 'Average_Monthly_Revenue')"
            ]
          },
          "metadata": {},
          "execution_count": 22
        },
        {
          "output_type": "display_data",
          "data": {
            "image/png": "[encoded data removed]",
            "text/plain": [
              "<Figure size 432x288 with 1 Axes>"
            ]
          },
          "metadata": {
            "needs_background": "light"
          }
        }
      ]
    },
    {
      "cell_type": "markdown",
      "metadata": {
        "id": "ooD38kfMksjz"
      },
      "source": [
        "## Residual Analysis\n",
        "**Goal**\n",
        "\n",
        "*Analyse the Residuals*\n",
        "\n",
        "### Concepts Covered\n",
        "The regression has five key assumptions:\n",
        "\n",
        "*Linear relationship *\n",
        "- The relationship between the independent and dependent variables to be linear.\n",
        "\n",
        "*Multivariate normality* \n",
        "- All variables to be multivariate normal.\n",
        "No or little multicollinearity - There is little or no multicollinearity in the data.\n",
        "\n",
        "*No auto-correlation* \n",
        "- There is little or no autocorrelation in the data.\n",
        "\n",
        "*Homoscedasticity* \n",
        "- The residuals are equal across the regression line.\n",
        "A residual Analysis to find the pattern will be done to know if there is bias in the independent variables. We will use matplotlib library for plotting the residual plots"
      ]
    },
    {
      "cell_type": "markdown",
      "metadata": {
        "id": "tQkeqkfllQa4"
      },
      "source": [
        "**Type in the missing code in the editor to achieve the below objectives.**\n",
        "## Predict the values based on Created Model.\n",
        "The model_lm can now be used to predict the values of dependant variable(y) on training data(X_train) using the method predict. These values can be stored and printed in a variable y_pred.\n",
        "\n",
        "## Calculate Residuals\n",
        "Residuals are the difference between the actual dependent variable y_train and the predicted variable y_pred.\n",
        "\n",
        "## check if the error terms follow a normal distribution\n",
        "To check if the residuals calculated follow a normal distribution, create a density plot of the residuals by using the method distplot of sns library. Use matplotlib functions to give the tite and the x and y labels on the chart.\n",
        "\n",
        "## Scatter Plot to look for patterns in the residuals\n",
        "Plot the Residual plot which is a scatterplot between independent variable X_train and the calculated residuals with matplotlib function plot. Again use matplotlib functions to give the title and the x and y labels on the chart.\n",
        "\n",
        "In the plot above, there is no trend of the residuals and hence no bias in the coefficients."
      ]
    },
    {
      "cell_type": "code",
      "metadata": {
        "colab": {
          "base_uri": "https://localhost:8080/",
          "height": 663
        },
        "id": "7tndd6yTkqFP",
        "outputId": "b606d036-65e6-4240-c845-bbe08b647637"
      },
      "source": [
        "#1. predict y for training set\n",
        "y_pred = model_lm.predict(X_train)\n",
        "\n",
        "\n",
        "#2. calculate residuals\n",
        "residuals = y_train - y_pred\n",
        "\n",
        "\n",
        "#3. check if the error terms follow a normal distribution\n",
        "plt.figure()\n",
        "sns.distplot(residuals, bins = 15)\n",
        "plt.suptitle('Error Terms', fontsize = 15)                  \n",
        "plt.xlabel('Residual', fontsize = 15)         \n",
        "\n",
        "\n",
        "#4. Scatter Plot to look for patterns in the residuals\n",
        "plt.figure()\n",
        "plt.plot(X_train, residuals, 'o', color='blue')\n",
        "plt.title('Residual Plot')\n",
        "plt.xlabel('Independent Variable')\n",
        "plt.ylabel('Residual')\n",
        "\n"
      ],
      "execution_count": 23,
      "outputs": [
        {
          "output_type": "stream",
          "name": "stderr",
          "text": [
            "/usr/local/lib/python3.7/dist-packages/seaborn/distributions.py:2619: FutureWarning: `distplot` is a deprecated function and will be removed in a future version. Please adapt your code to use either `displot` (a figure-level function with similar flexibility) or `histplot` (an axes-level function for histograms).\n",
            "  warnings.warn(msg, FutureWarning)\n"
          ]
        },
        {
          "output_type": "execute_result",
          "data": {
            "text/plain": [
              "Text(0, 0.5, 'Residual')"
            ]
          },
          "metadata": {},
          "execution_count": 23
        },
        {
          "output_type": "display_data",
          "data": {
            "image/png": "[encoded data removed]",
            "text/plain": [
              "<Figure size 432x288 with 1 Axes>"
            ]
          },
          "metadata": {
            "needs_background": "light"
          }
        },
        {
          "output_type": "display_data",
          "data": {
            "image/png": "[encoded data removed]",
            "text/plain": [
              "<Figure size 432x288 with 1 Axes>"
            ]
          },
          "metadata": {
            "needs_background": "light"
          }
        }
      ]
    },
    {
      "cell_type": "markdown",
      "metadata": {
        "id": "DbjoPd6Dlpj9"
      },
      "source": [
        "**Evaluating the Model**\n",
        "\n",
        "**Goal**\n",
        "\n",
        "*Evaluate the accuracy of the model*\n",
        "\n",
        "**Concepts Covered**\n",
        "\n",
        "R-Squared is used as a metric to quantify how much dependent variable variation the linear model explains.The range of R-Squared goes from 0% to 100%. The higher the R-Squared the better.\n",
        "\n",
        "In this case, regression line is able to explain 87.75% of the variation, pretty good!"
      ]
    },
    {
      "cell_type": "code",
      "metadata": {
        "colab": {
          "base_uri": "https://localhost:8080/",
          "height": 349
        },
        "id": "ehMQH10sl1-k",
        "outputId": "8bbb1375-c2de-4e57-be79-e13978b893b9"
      },
      "source": [
        "#1. Predict on test set\n",
        "y_pred_test = model_lm.predict(X_test)\n",
        "\n",
        "\n",
        "#2. Calculating R-Squared for testing set\n",
        "from sklearn.metrics import r2_score\n",
        "\n",
        "\n",
        "#3. R square value for Test Set\n",
        "Rscore_test = r2_score(y_test,y_pred_test)\n",
        "print(f'R-squared value for Testing Set:{Rscore_test}')\n",
        "\n",
        "\n",
        "#4.Plot the actual versus predicted for the test data\n",
        "import matplotlib.pyplot as plt\n",
        "fig = plt.figure()\n",
        "plt.scatter(y_test,y_pred_test)\n",
        "fig.suptitle('y_test vs y_pred_test', fontsize=20)\n",
        "plt.xlabel('y_test', fontsize=16)\n",
        "plt.ylabel('y_pred_test', fontsize=16)\n"
      ],
      "execution_count": 24,
      "outputs": [
        {
          "output_type": "stream",
          "name": "stdout",
          "text": [
            "R-squared value for Testing Set:0.9391774140112625\n"
          ]
        },
        {
          "output_type": "execute_result",
          "data": {
            "text/plain": [
              "Text(0, 0.5, 'y_pred_test')"
            ]
          },
          "metadata": {},
          "execution_count": 24
        },
        {
          "output_type": "display_data",
          "data": {
            "image/png": "[encoded data removed]",
            "text/plain": [
              "<Figure size 432x288 with 1 Axes>"
            ]
          },
          "metadata": {
            "needs_background": "light"
          }
        }
      ]
    },
    {
      "cell_type": "code",
      "metadata": {
        "id": "HAdUN-t4l7tl"
      },
      "source": [
        ""
      ],
      "execution_count": 24,
      "outputs": []
    }
  ]
}